{
 "cells": [
  {
   "cell_type": "markdown",
   "id": "737443c2-8639-4d70-b193-3e43aa2db157",
   "metadata": {},
   "source": [
    "<a href=\"https://colab.research.google.com/github/datascience-uniandes/hypothesis-testing-tutorial/blob/master/hypothesis-testing.ipynb\" target=\"_parent\"><img src=\"https://colab.research.google.com/assets/colab-badge.svg\" alt=\"Open In Colab\"/></a>"
   ]
  },
  {
   "cell_type": "markdown",
   "id": "2ba495b3-ab96-4765-a9f7-a7430df8aed7",
   "metadata": {
    "tags": []
   },
   "source": [
    "# Hypothesis Testing\n",
    "\n",
    "MINE-4101: Applied Data Science  \n",
    "Univerisdad de los Andes  \n",
    "  \n",
    "**Dataset:** AirBnb Listings - Mexico City, Distrito Federal, Mexico [[dataset](http://insideairbnb.com/get-the-data/) | [dictionary](https://docs.google.com/spreadsheets/d/1iWCNJcSutYqpULSQHlNyGInUvHg2BoUGoNRIGa6Szc4/edit?usp=sharing)]. This dataset comprises information about Airbnb property listings in Mexico City. It includes data points like neighborhood, property type, price per night, number of reviews, review scores, availability, amenities, and more.\n",
    "\n",
    "**Business Context:** Property Investment and Vacation Rental Strategy. You're a consultant for individuals or firms looking to invest in properties for Airbnb rentals. They want to identify the most lucrative neighborhoods, optimal pricing strategies, and understand the factors that contribute to positive reviews and frequent bookings. <span style=\"color: red;\">Since you currently only have a sample of all the properties listed in the city, you must ensure that the insights you extract from your analysis can be generalized to the entire set of properties.</span>\n",
    "\n",
    "Last update: September, 2023"
   ]
  },
  {
   "cell_type": "code",
   "execution_count": null,
   "id": "a51e8889-a912-4693-b9d8-22f2a8f25c0a",
   "metadata": {},
   "outputs": [],
   "source": [
    "import pandas as pd\n",
    "\n",
    "import matplotlib.pyplot as plt\n",
    "import seaborn as sns\n",
    "\n",
    "from scipy.stats import ttest_ind, chi2_contingency"
   ]
  },
  {
   "cell_type": "code",
   "execution_count": null,
   "id": "bd0cb8af-4ad6-4845-91f9-e1e515c113be",
   "metadata": {},
   "outputs": [],
   "source": [
    "pd.set_option(\"display.max_columns\", None)\n",
    "pd.set_option(\"display.max_rows\", 100)"
   ]
  },
  {
   "cell_type": "markdown",
   "id": "4de1ed68-6259-48cb-96f1-aa1fdd4138f0",
   "metadata": {},
   "source": [
    "## 1. Loading the data"
   ]
  },
  {
   "cell_type": "code",
   "execution_count": null,
   "id": "edadb6a6-aa6b-48a1-b236-1c30b7d27ee0",
   "metadata": {},
   "outputs": [],
   "source": [
    "listings_df = pd.read_csv(\"./data/listings.csv.gz\").sample(frac=0.01, random_state=100)"
   ]
  },
  {
   "cell_type": "code",
   "execution_count": null,
   "id": "5874f721-b778-4b01-8e3a-bc10e207be7f",
   "metadata": {},
   "outputs": [],
   "source": [
    "listings_df.shape"
   ]
  },
  {
   "cell_type": "code",
   "execution_count": null,
   "id": "c4bc9fbe-163b-4c1b-9d12-e25eb78fb76c",
   "metadata": {},
   "outputs": [],
   "source": [
    "listings_df.dtypes"
   ]
  },
  {
   "cell_type": "code",
   "execution_count": null,
   "id": "6beb934b-4804-40a6-be8f-a71251ba344b",
   "metadata": {},
   "outputs": [],
   "source": [
    "listings_df.sample(5)"
   ]
  },
  {
   "cell_type": "markdown",
   "id": "1fafd973-4f9f-4560-b04a-d8ddf65306cf",
   "metadata": {},
   "source": [
    "## 2. Transforming the data"
   ]
  },
  {
   "cell_type": "code",
   "execution_count": null,
   "id": "f620085b-0a40-4091-8fe9-c8c5c8c04af2",
   "metadata": {},
   "outputs": [],
   "source": [
    "listings_df[\"price\"] = listings_df[\"price\"].str.replace(\"[$,]\", \"\", regex=True).astype(float)"
   ]
  },
  {
   "cell_type": "markdown",
   "id": "6584e9e2-543b-4ac5-9918-a3853d92a9de",
   "metadata": {},
   "source": [
    "## 3. Removing some critical outliers based on listing price"
   ]
  },
  {
   "cell_type": "code",
   "execution_count": null,
   "id": "c23b29e3-f164-4df9-92b1-80eed977d67f",
   "metadata": {},
   "outputs": [],
   "source": [
    "q1 = listings_df[\"price\"].quantile(0.25)\n",
    "q3 = listings_df[\"price\"].quantile(0.75)\n",
    "iqr = q3 - q1"
   ]
  },
  {
   "cell_type": "code",
   "execution_count": null,
   "id": "8d8787e1-69f0-4be0-bb98-14f6434a7f2b",
   "metadata": {},
   "outputs": [],
   "source": [
    "listings_df = listings_df.loc[listings_df[\"price\"] <= (q3 + 1.5 * iqr)]"
   ]
  },
  {
   "cell_type": "markdown",
   "id": "06331563-4d60-4efd-b9d4-a08accb75bbe",
   "metadata": {},
   "source": [
    "## 4. Business question 1\n",
    "\n",
    "After selecting a couple of neighborhoods with good investment potential, analyze the listing price for that neighborhoods. On average, one of the two neighborhoods has higher prices than the other one?"
   ]
  },
  {
   "cell_type": "code",
   "execution_count": null,
   "id": "d62ea727-4e52-498c-9631-def9574e4b5a",
   "metadata": {},
   "outputs": [],
   "source": [
    "listings_df[\"neighbourhood_cleansed\"].value_counts(dropna=False, normalize=True)"
   ]
  },
  {
   "cell_type": "code",
   "execution_count": null,
   "id": "132a18f2-c51c-40af-8b9f-9d1e69d52816",
   "metadata": {},
   "outputs": [],
   "source": [
    "selected_neighborhoods = [\"Miguel Hidalgo\", \"Benito Juárez\"]"
   ]
  },
  {
   "cell_type": "code",
   "execution_count": null,
   "id": "26214b82-307f-4d50-b579-14f96fed9358",
   "metadata": {},
   "outputs": [],
   "source": [
    "# Showing some statistics for neighborhoods of interest\n",
    "listings_df.loc[listings_df[\"neighbourhood_cleansed\"].isin(selected_neighborhoods)].groupby(\"neighbourhood_cleansed\")[\"price\"].describe()"
   ]
  },
  {
   "cell_type": "code",
   "execution_count": null,
   "id": "6853af07-6cfa-4b89-9e13-b167ded3e5ce",
   "metadata": {},
   "outputs": [],
   "source": [
    "# Plotting price distribution by neighborhood\n",
    "fig, ax = plt.subplots(1, 1, figsize=(20, 8))\n",
    "sns.kdeplot(\n",
    "    data=listings_df.loc[listings_df[\"neighbourhood_cleansed\"].isin(selected_neighborhoods)],\n",
    "    x=\"price\",\n",
    "    hue=\"neighbourhood_cleansed\",\n",
    "    bw_adjust=.3,\n",
    "    ax=ax\n",
    ")\n",
    "for (neighborhood, color) in zip(selected_neighborhoods, [\"steelblue\", \"orange\"]):\n",
    "    ax.axvline(listings_df.loc[listings_df[\"neighbourhood_cleansed\"] == neighborhood, \"price\"].mean(), color=color, linestyle=\"dashed\", linewidth=2, ymax=0.2)\n",
    "plt.title(\"Price distribution by neighborhood (with means)\")\n",
    "plt.show()"
   ]
  },
  {
   "cell_type": "markdown",
   "id": "f40bb53d-3e1e-4dcd-8c21-9ab122aae52f",
   "metadata": {},
   "source": [
    "**Step 1.** Define null and alternative hypothesis:\n",
    "\n",
    "$$\n",
    "H_0: \\mu_1 = \\mu_2 \\\\ H_a: \\mu_1 \\neq \\mu_2\n",
    "$$\n",
    "\n",
    "**Step 2.** Choose the appropriate test: t-test.  \n",
    "\n",
    "**Step 3.** Calculate the p-value:"
   ]
  },
  {
   "cell_type": "code",
   "execution_count": null,
   "id": "aaadba27-1e6d-49ef-8260-2311c38d2272",
   "metadata": {},
   "outputs": [],
   "source": [
    "# Performing the two-sample t-test\n",
    "t_stat, p_value = ttest_ind(\n",
    "    listings_df.loc[listings_df[\"neighbourhood_cleansed\"] == selected_neighborhoods[0], \"price\"],\n",
    "    listings_df.loc[listings_df[\"neighbourhood_cleansed\"] == selected_neighborhoods[1], \"price\"],\n",
    "    equal_var=False\n",
    ")"
   ]
  },
  {
   "cell_type": "code",
   "execution_count": null,
   "id": "2e0469a6-4e4d-4a32-8bf3-cd1971daf31f",
   "metadata": {},
   "outputs": [],
   "source": [
    "# Printing the results\n",
    "print(\"T-statistic:\", t_stat)\n",
    "print(\"P-value:\", p_value)"
   ]
  },
  {
   "cell_type": "markdown",
   "id": "3dd22c9e-e105-474e-a546-7112090928e4",
   "metadata": {},
   "source": [
    "**Step 4.** Determine the statistical significance:"
   ]
  },
  {
   "cell_type": "code",
   "execution_count": null,
   "id": "e1046259-e05d-4b7a-8687-10f637647a82",
   "metadata": {},
   "outputs": [],
   "source": [
    "# Evaluating significance\n",
    "alpha = 0.05  # Choosing a significance level (commonly 0.05)\n",
    "if p_value < alpha:\n",
    "    print(f\"REJECT THE NULL HYPOTHESIS: The difference in listing price between {selected_neighborhoods[0]} and {selected_neighborhoods[1]} neighbourhoods is statistically significant.\")\n",
    "else:\n",
    "    print(f\"FAIL TO REJECT THE NULL HYPOTHESIS: The difference in listing price between {selected_neighborhoods[0]} and {selected_neighborhoods[1]} neighbourhoods is not statistically significant.\")"
   ]
  },
  {
   "cell_type": "markdown",
   "id": "6e67db21-4665-4ce0-963a-e6e02fe442c2",
   "metadata": {},
   "source": [
    "**Potential implication for an investor:**  \n",
    "Depending on land prices and profit margins, it will be more or less convenient to invest in neighborhoods where users are willing to pay on average a certain amount of money."
   ]
  },
  {
   "cell_type": "markdown",
   "id": "82fd2d43-6dee-41e8-89b2-ec3da0ea22f6",
   "metadata": {},
   "source": [
    "## 5. Business question 2\n",
    "\n",
    "In order to select the best room type for investing, are there room types being most predominant in some neighborhoods?"
   ]
  },
  {
   "cell_type": "code",
   "execution_count": null,
   "id": "54ebf687-ce93-4cad-b718-15ac94ce3302",
   "metadata": {},
   "outputs": [],
   "source": [
    "neighborhood_frec_cumsum = listings_df[\"neighbourhood_cleansed\"].value_counts(dropna=False, normalize=True).cumsum()\n",
    "neighborhood_frec_cumsum"
   ]
  },
  {
   "cell_type": "code",
   "execution_count": null,
   "id": "0af69936-40bc-44c1-8d64-c2526aa4d632",
   "metadata": {},
   "outputs": [],
   "source": [
    "# Filtering by Pareto's rule at 90%\n",
    "most_representative_neighborhoods = neighborhood_frec_cumsum.loc[neighborhood_frec_cumsum < 0.9].index.tolist()\n",
    "most_representative_neighborhoods"
   ]
  },
  {
   "cell_type": "code",
   "execution_count": null,
   "id": "6a8f28dd-385a-4e19-b5c2-f5ef3fe0662a",
   "metadata": {},
   "outputs": [],
   "source": [
    "listings_df[\"room_type\"].value_counts(dropna=False, normalize=True)"
   ]
  },
  {
   "cell_type": "code",
   "execution_count": null,
   "id": "fbbe7d87-3403-4f45-931f-50d7da6813a8",
   "metadata": {},
   "outputs": [],
   "source": [
    "contingency_table = pd.crosstab(\n",
    "    listings_df.loc[listings_df[\"neighbourhood_cleansed\"].isin(most_representative_neighborhoods)][\"neighbourhood_cleansed\"],\n",
    "    listings_df.loc[listings_df[\"neighbourhood_cleansed\"].isin(most_representative_neighborhoods)][\"room_type\"]\n",
    ")\n",
    "contingency_table"
   ]
  },
  {
   "cell_type": "markdown",
   "id": "78a10bcb-9984-4a4f-802b-617d7c935555",
   "metadata": {},
   "source": [
    "**Step 1.** Define null and alternative hypothesis:\n",
    "\n",
    "$$\n",
    "H_0: \\text{The variables are independent} \\\\ H_a: \\text{The variables are not independent}\n",
    "$$\n",
    "\n",
    "**Step 2.** Choose the appropriate test: t-test.  \n",
    "\n",
    "**Step 3.** Calculate the p-value:"
   ]
  },
  {
   "cell_type": "code",
   "execution_count": null,
   "id": "61b78f86-8405-4032-8154-a280e95b7fa9",
   "metadata": {},
   "outputs": [],
   "source": [
    "# Performing the chi-square test\n",
    "chi2, p_value, _, expected_freq = chi2_contingency(contingency_table)"
   ]
  },
  {
   "cell_type": "code",
   "execution_count": null,
   "id": "7e38a46f-b7e6-48f4-830f-03759ffe9275",
   "metadata": {},
   "outputs": [],
   "source": [
    "# Printing the results\n",
    "print(\"Chi-Square:\", chi2)\n",
    "print(\"P-value:\", p_value)\n",
    "print(\"Expected Frequencies:\\n\", expected_freq.round(0))"
   ]
  },
  {
   "cell_type": "code",
   "execution_count": null,
   "id": "b842cf5f-7adf-43c9-ba5b-e3bbf991990d",
   "metadata": {},
   "outputs": [],
   "source": [
    "# Evaluating significance\n",
    "alpha = 0.05  # Choosing a significance level (commonly 0.05)\n",
    "if p_value < alpha:\n",
    "    print(\"REJECT THE NULL HYPOTHESIS: There's a statistically significant dependency between neighborhood and room type.\")\n",
    "else:\n",
    "    print(\"FAIL TO REJECT THE NULL HYPOTHESIS: There's no statistically significant dependency between neighborhood and room type.\")"
   ]
  },
  {
   "cell_type": "markdown",
   "id": "9b47ad13-c1da-4a63-918c-457023884054",
   "metadata": {},
   "source": [
    "**Potential implication for an investor:**  \n",
    "There are no enough evidence to say that certain room types are more predominant in some neighborhoods, so the decision about the room type to offer could depend more on differente factors like..."
   ]
  },
  {
   "cell_type": "code",
   "execution_count": null,
   "id": "f795a90a-7718-486e-82f5-41427b3a6d06",
   "metadata": {},
   "outputs": [],
   "source": []
  }
 ],
 "metadata": {
  "kernelspec": {
   "display_name": "Python 3 (ipykernel)",
   "language": "python",
   "name": "python3"
  },
  "language_info": {
   "codemirror_mode": {
    "name": "ipython",
    "version": 3
   },
   "file_extension": ".py",
   "mimetype": "text/x-python",
   "name": "python",
   "nbconvert_exporter": "python",
   "pygments_lexer": "ipython3",
   "version": "3.9.12"
  }
 },
 "nbformat": 4,
 "nbformat_minor": 5
}
